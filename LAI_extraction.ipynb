{
 "cells": [
  {
   "cell_type": "markdown",
   "id": "e6b56954",
   "metadata": {},
   "source": [
    "### Load libraries "
   ]
  },
  {
   "cell_type": "code",
   "execution_count": 1,
   "id": "83e8d545",
   "metadata": {},
   "outputs": [],
   "source": [
    "import os\n",
    "\n",
    "import sys\n",
    "file = 'functions.py'\n",
    "sys.path.insert(0,os.path.dirname(os.path.abspath(file)))\n",
    "import functions"
   ]
  },
  {
   "cell_type": "markdown",
   "id": "a3f7e22b",
   "metadata": {},
   "source": [
    "## Run functions"
   ]
  },
  {
   "cell_type": "markdown",
   "id": "35d317b2",
   "metadata": {},
   "source": [
    "### V1. LAI TXT files to CSV files WITHOUT extracting  information from the 'LAI_FILE' column to create new columns\n",
    "It only requieres to modify the the 'config.yml' file\n"
   ]
  },
  {
   "cell_type": "code",
   "execution_count": 2,
   "id": "cb7c4fae",
   "metadata": {},
   "outputs": [
    {
     "name": "stdout",
     "output_type": "stream",
     "text": [
      "Dataframe ./output/LAI_3_PPAC_Soybean_I1_y22.csv created successfully!\n"
     ]
    }
   ],
   "source": [
    "functions.txtLAI_to_csvFile('config.yml', 'NAME_ZIP_FILES', 'VARIABLES_EXTRACT_FROM_TXT_FILE')"
   ]
  },
  {
   "cell_type": "markdown",
   "id": "ce5fefca",
   "metadata": {},
   "source": [
    "### V2. LAI TXT files to CSV files AND extracting information from the 'LAI_FILE' column to create new columns\n",
    "It requires to modify the 'config.yml' AND the 'template.yaml' files\n"
   ]
  },
  {
   "cell_type": "code",
   "execution_count": 4,
   "id": "029ea735",
   "metadata": {
    "scrolled": true
   },
   "outputs": [
    {
     "name": "stdout",
     "output_type": "stream",
     "text": [
      "Dataframe ./output/LAI_3_PPAC_Soybean_I1_y22.csv created successfully!\n"
     ]
    }
   ],
   "source": [
    "functions.information_from_file_name_column('config.yml', 'NAME_ZIP_FILES', 'VARIABLES_EXTRACT_FROM_TXT_FILE', 'template.yml', \n",
    "                                  'TEMPLATE_INPUT', 'COLUM_WITH_NAME', 'FILE_NAME', 'COMPLEMENTARY_INFO', 'SAMPLE_IDENTIFIER')"
   ]
  },
  {
   "cell_type": "code",
   "execution_count": null,
   "id": "fa51937c",
   "metadata": {},
   "outputs": [],
   "source": [
    " "
   ]
  }
 ],
 "metadata": {
  "kernelspec": {
   "display_name": "Python 3 (ipykernel)",
   "language": "python",
   "name": "python3"
  },
  "language_info": {
   "codemirror_mode": {
    "name": "ipython",
    "version": 3
   },
   "file_extension": ".py",
   "mimetype": "text/x-python",
   "name": "python",
   "nbconvert_exporter": "python",
   "pygments_lexer": "ipython3",
   "version": "3.8.12"
  }
 },
 "nbformat": 4,
 "nbformat_minor": 5
}
