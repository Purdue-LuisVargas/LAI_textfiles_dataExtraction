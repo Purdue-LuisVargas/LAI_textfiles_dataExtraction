{
 "cells": [
  {
   "cell_type": "markdown",
   "id": "e6b56954",
   "metadata": {},
   "source": [
    "### Load libraries "
   ]
  },
  {
   "cell_type": "code",
   "execution_count": null,
   "id": "83e8d545",
   "metadata": {},
   "outputs": [],
   "source": [
    "import os\n",
    "\n",
    "# import functions file\n",
    "import sys\n",
    "file = 'functions.py'\n",
    "sys.path.insert(0,os.path.dirname(os.path.abspath(file)))\n",
    "import functions"
   ]
  },
  {
   "cell_type": "markdown",
   "id": "b4534db4",
   "metadata": {},
   "source": [
    "### Instructions"
   ]
  },
  {
   "cell_type": "markdown",
   "id": "9f1dd3a1",
   "metadata": {},
   "source": [
    "#### 1. Load LAI txt files into a ZIP folder in the same path where this file is located"
   ]
  },
  {
   "cell_type": "markdown",
   "id": "23df22e3",
   "metadata": {},
   "source": [
    "#### 2. Declare variables"
   ]
  },
  {
   "cell_type": "code",
   "execution_count": null,
   "id": "ce75c8f1",
   "metadata": {},
   "outputs": [],
   "source": [
    "#-Write the name of variables of your ZIP file. Do not write the ZIP extension\n",
    "name_ZIP_file = 'LAI_1_ACRE_Biomass_Early_y22'"
   ]
  },
  {
   "cell_type": "code",
   "execution_count": null,
   "id": "1b876b17",
   "metadata": {},
   "outputs": [],
   "source": [
    "#-Write the name of variables that you want in your output file\n",
    "# ~~~~~~ NEVER DELETE 'DATE' AND 'TIME' COLUMNS ~~~~~\n",
    "listOfvariables = ['LAI_FILE',\n",
    " 'VERSION',\n",
    " 'DATE',\n",
    " 'TIME',\n",
    " 'PROMPT1',\n",
    " 'RESP1',\n",
    " 'PROMPT2',\n",
    " 'RESP2',\n",
    " 'TRANSCOMP',\n",
    " 'MODEL',\n",
    " 'GPSLAT',\n",
    " 'GPSLONG',\n",
    " 'GPSALT',\n",
    " 'GPSHDOP',\n",
    " 'GPSNUM',\n",
    " 'LAI',\n",
    " 'SEL',\n",
    " 'ACF',\n",
    " 'DIFN',\n",
    " 'MTA',\n",
    " 'SEM',\n",
    " 'SMP']"
   ]
  },
  {
   "cell_type": "markdown",
   "id": "9aff969e",
   "metadata": {},
   "source": [
    "#### 3. Run functions"
   ]
  },
  {
   "cell_type": "code",
   "execution_count": null,
   "id": "d2383b09",
   "metadata": {},
   "outputs": [],
   "source": [
    "functions.lai_df(name_ZIP_file, listOfvariables)"
   ]
  }
 ],
 "metadata": {
  "kernelspec": {
   "display_name": "Python 3 (ipykernel)",
   "language": "python",
   "name": "python3"
  },
  "language_info": {
   "codemirror_mode": {
    "name": "ipython",
    "version": 3
   },
   "file_extension": ".py",
   "mimetype": "text/x-python",
   "name": "python",
   "nbconvert_exporter": "python",
   "pygments_lexer": "ipython3",
   "version": "3.8.12"
  }
 },
 "nbformat": 4,
 "nbformat_minor": 5
}
